{
 "cells": [
  {
   "cell_type": "markdown",
   "metadata": {},
   "source": [
    "# Check the list of folders"
   ]
  },
  {
   "cell_type": "code",
   "execution_count": 9,
   "metadata": {},
   "outputs": [
    {
     "name": "stdout",
     "output_type": "stream",
     "text": [
      "Found 2 items\r\n",
      "drwxr-xr-x   - root supergroup          0 2017-11-28 21:41 /data\r\n",
      "drwxr-xr-x   - root supergroup          0 2017-10-17 13:11 /user\r\n"
     ]
    }
   ],
   "source": [
    "! hdfs dfs -ls /"
   ]
  },
  {
   "cell_type": "markdown",
   "metadata": {},
   "source": [
    "# Create the folder rruj in the /user folder (relative path)"
   ]
  },
  {
   "cell_type": "code",
   "execution_count": 10,
   "metadata": {},
   "outputs": [],
   "source": [
    "! hdfs dfs -mkdir rruj"
   ]
  },
  {
   "cell_type": "code",
   "execution_count": 12,
   "metadata": {},
   "outputs": [
    {
     "name": "stdout",
     "output_type": "stream",
     "text": [
      "Found 2 items\r\n",
      "-rw-r--r--   1 jovyan supergroup        239 2017-11-28 21:41 /user/jovyan/README.md\r\n",
      "drwxr-xr-x   - jovyan supergroup          0 2018-02-19 03:32 /user/jovyan/rruj\r\n"
     ]
    }
   ],
   "source": [
    "# Check the new folder\n",
    "! hdfs dfs -ls /user/jovyan"
   ]
  },
  {
   "cell_type": "markdown",
   "metadata": {},
   "source": [
    "# Create a file test.txt in the local fs"
   ]
  },
  {
   "cell_type": "code",
   "execution_count": 14,
   "metadata": {},
   "outputs": [],
   "source": [
    "! touch test.txt"
   ]
  },
  {
   "cell_type": "code",
   "execution_count": 15,
   "metadata": {},
   "outputs": [
    {
     "name": "stdout",
     "output_type": "stream",
     "text": [
      ".\t      .conda\t\t  .jupyter\t     supervisord.log\r\n",
      "..\t      .config\t\t  .local\t     supervisord.pid\r\n",
      ".bash_logout  Demo.ipynb\t  .oracle_jre_usage  test.txt\r\n",
      ".bashrc       .ipynb_checkpoints  .profile\t     .wget-hsts\r\n",
      ".cache\t      .ipython\t\t  README.md\r\n"
     ]
    }
   ],
   "source": [
    "# Chgeck if the file got created\n",
    "! ls -a"
   ]
  },
  {
   "cell_type": "markdown",
   "metadata": {},
   "source": [
    "# put the test.txt file in the assignment1 folder in rruj."
   ]
  },
  {
   "cell_type": "code",
   "execution_count": 20,
   "metadata": {},
   "outputs": [],
   "source": [
    "# Create the folder assignment1\n",
    "! hdfs dfs -mkdir /user/jovyan/rruj/assignment1"
   ]
  },
  {
   "cell_type": "code",
   "execution_count": 23,
   "metadata": {},
   "outputs": [],
   "source": [
    "# put the file from local filesystem to hdfs filesystem\n",
    "! hdfs dfs -put test.txt /user/jovyan/rruj/assignment1"
   ]
  },
  {
   "cell_type": "code",
   "execution_count": 32,
   "metadata": {},
   "outputs": [
    {
     "name": "stdout",
     "output_type": "stream",
     "text": [
      "Found 1 items\r\n",
      "-rw-r--r--   1 jovyan supergroup          0 2018-02-19 03:40 /user/jovyan/rruj/assignment1/test.txt\r\n"
     ]
    }
   ],
   "source": [
    "# Check if the file got created\n",
    "! hdfs dfs -ls /user/jovyan/rruj/assignment1"
   ]
  },
  {
   "cell_type": "markdown",
   "metadata": {},
   "source": [
    "# Output the filesie and the ownner"
   ]
  },
  {
   "cell_type": "code",
   "execution_count": 33,
   "metadata": {},
   "outputs": [
    {
     "name": "stdout",
     "output_type": "stream",
     "text": [
      "-rw-r--r--   1 jovyan supergroup          0 2018-02-19 03:40 /user/jovyan/rruj/assignment1/test.txt\r\n"
     ]
    }
   ],
   "source": [
    "# Shows the filesize is 0 bytes and owner is jovyan\n",
    "! hdfs dfs -ls -h /user/jovyan/rruj/assignment1/test.txt"
   ]
  },
  {
   "cell_type": "markdown",
   "metadata": {},
   "source": [
    "# Revoke read permissions for other users in file test.txt"
   ]
  },
  {
   "cell_type": "code",
   "execution_count": 35,
   "metadata": {},
   "outputs": [],
   "source": [
    "! hdfs dfs -chmod o-r /user/jovyan/rruj/assignment1/test.txt"
   ]
  },
  {
   "cell_type": "code",
   "execution_count": 36,
   "metadata": {},
   "outputs": [
    {
     "name": "stdout",
     "output_type": "stream",
     "text": [
      "Found 1 items\r\n",
      "-rw-r-----   1 jovyan supergroup          0 2018-02-19 03:40 /user/jovyan/rruj/assignment1/test.txt\r\n"
     ]
    }
   ],
   "source": [
    "# check new permissions on the file \n",
    "! hdfs dfs -ls -h /user/jovyan/rruj/assignment1"
   ]
  },
  {
   "cell_type": "code",
   "execution_count": null,
   "metadata": {},
   "outputs": [],
   "source": [
    "# Inserting random lines of text to the files"
   ]
  },
  {
   "cell_type": "code",
   "execution_count": 61,
   "metadata": {},
   "outputs": [],
   "source": [
    "! echo \"Ram\" | hdfs dfs -appendToFile - /user/jovyan/rruj/assignment1/test.txt"
   ]
  },
  {
   "cell_type": "code",
   "execution_count": 63,
   "metadata": {},
   "outputs": [],
   "source": [
    "! echo \"Pattern recognization\" | hdfs dfs -appendToFile - /user/jovyan/rruj/assignment1/test.txt"
   ]
  },
  {
   "cell_type": "markdown",
   "metadata": {},
   "source": [
    "# read first 10 lines of the file"
   ]
  },
  {
   "cell_type": "code",
   "execution_count": 64,
   "metadata": {},
   "outputs": [
    {
     "name": "stdout",
     "output_type": "stream",
     "text": [
      "Ram\r\n",
      "Pattern recognization\r\n"
     ]
    }
   ],
   "source": [
    "! hdfs dfs -cat /user/jovyan/rruj/assignment1/test.txt | head -10"
   ]
  },
  {
   "cell_type": "markdown",
   "metadata": {},
   "source": [
    "# rename it to test2.txt"
   ]
  },
  {
   "cell_type": "code",
   "execution_count": 66,
   "metadata": {},
   "outputs": [],
   "source": [
    "! hdfs dfs -mv /user/jovyan/rruj/assignment1/test.txt /user/jovyan/rruj/assignment1/test2.txt"
   ]
  },
  {
   "cell_type": "code",
   "execution_count": 67,
   "metadata": {},
   "outputs": [
    {
     "name": "stdout",
     "output_type": "stream",
     "text": [
      "Found 1 items\r\n",
      "-rw-r-----   1 jovyan supergroup         26 2018-02-19 04:21 /user/jovyan/rruj/assignment1/test2.txt\r\n"
     ]
    }
   ],
   "source": [
    "# Check if the new file is renamed to test2.txt\n",
    "! hdfs dfs -ls /user/jovyan/rruj/assignment1"
   ]
  }
 ],
 "metadata": {
  "kernelspec": {
   "display_name": "Python 2",
   "language": "python",
   "name": "python2"
  },
  "language_info": {
   "codemirror_mode": {
    "name": "ipython",
    "version": 2
   },
   "file_extension": ".py",
   "mimetype": "text/x-python",
   "name": "python",
   "nbconvert_exporter": "python",
   "pygments_lexer": "ipython2",
   "version": "2.7.12"
  }
 },
 "nbformat": 4,
 "nbformat_minor": 2
}
